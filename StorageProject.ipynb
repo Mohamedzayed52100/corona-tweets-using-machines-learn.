{
 "cells": [
  {
   "cell_type": "markdown",
   "id": "e8ad8590",
   "metadata": {},
   "source": [
    "# Dataset\n"
   ]
  },
  {
   "cell_type": "code",
   "execution_count": 1,
   "id": "90646bba",
   "metadata": {},
   "outputs": [],
   "source": [
    "# Load Dataset\n",
    "import pandas as pd\n",
    "data = pd.read_csv(\"E:\\DataSetForMachine\\Corona_Virus_Tweets/Corona_NLP_train.csv\", encoding='latin-1')"
   ]
  },
  {
   "cell_type": "code",
   "execution_count": 2,
   "id": "704f9cf6",
   "metadata": {},
   "outputs": [],
   "source": [
    "#Hide warnings\n",
    "import warnings\n",
    "warnings.filterwarnings('ignore')"
   ]
  },
  {
   "cell_type": "code",
   "execution_count": 3,
   "id": "8338711d",
   "metadata": {},
   "outputs": [
    {
     "data": {
      "text/html": [
       "<div>\n",
       "<style scoped>\n",
       "    .dataframe tbody tr th:only-of-type {\n",
       "        vertical-align: middle;\n",
       "    }\n",
       "\n",
       "    .dataframe tbody tr th {\n",
       "        vertical-align: top;\n",
       "    }\n",
       "\n",
       "    .dataframe thead th {\n",
       "        text-align: right;\n",
       "    }\n",
       "</style>\n",
       "<table border=\"1\" class=\"dataframe\">\n",
       "  <thead>\n",
       "    <tr style=\"text-align: right;\">\n",
       "      <th></th>\n",
       "      <th>UserName</th>\n",
       "      <th>ScreenName</th>\n",
       "      <th>Location</th>\n",
       "      <th>TweetAt</th>\n",
       "      <th>OriginalTweet</th>\n",
       "      <th>Sentiment</th>\n",
       "    </tr>\n",
       "  </thead>\n",
       "  <tbody>\n",
       "    <tr>\n",
       "      <th>0</th>\n",
       "      <td>3799</td>\n",
       "      <td>48751</td>\n",
       "      <td>London</td>\n",
       "      <td>16-03-2020</td>\n",
       "      <td>@MeNyrbie @Phil_Gahan @Chrisitv https://t.co/i...</td>\n",
       "      <td>Neutral</td>\n",
       "    </tr>\n",
       "    <tr>\n",
       "      <th>1</th>\n",
       "      <td>3800</td>\n",
       "      <td>48752</td>\n",
       "      <td>UK</td>\n",
       "      <td>16-03-2020</td>\n",
       "      <td>advice Talk to your neighbours family to excha...</td>\n",
       "      <td>Positive</td>\n",
       "    </tr>\n",
       "    <tr>\n",
       "      <th>2</th>\n",
       "      <td>3801</td>\n",
       "      <td>48753</td>\n",
       "      <td>Vagabonds</td>\n",
       "      <td>16-03-2020</td>\n",
       "      <td>Coronavirus Australia: Woolworths to give elde...</td>\n",
       "      <td>Positive</td>\n",
       "    </tr>\n",
       "    <tr>\n",
       "      <th>3</th>\n",
       "      <td>3802</td>\n",
       "      <td>48754</td>\n",
       "      <td>NaN</td>\n",
       "      <td>16-03-2020</td>\n",
       "      <td>My food stock is not the only one which is emp...</td>\n",
       "      <td>Positive</td>\n",
       "    </tr>\n",
       "    <tr>\n",
       "      <th>4</th>\n",
       "      <td>3803</td>\n",
       "      <td>48755</td>\n",
       "      <td>NaN</td>\n",
       "      <td>16-03-2020</td>\n",
       "      <td>Me, ready to go at supermarket during the #COV...</td>\n",
       "      <td>Extremely Negative</td>\n",
       "    </tr>\n",
       "  </tbody>\n",
       "</table>\n",
       "</div>"
      ],
      "text/plain": [
       "   UserName  ScreenName   Location     TweetAt  \\\n",
       "0      3799       48751     London  16-03-2020   \n",
       "1      3800       48752         UK  16-03-2020   \n",
       "2      3801       48753  Vagabonds  16-03-2020   \n",
       "3      3802       48754        NaN  16-03-2020   \n",
       "4      3803       48755        NaN  16-03-2020   \n",
       "\n",
       "                                       OriginalTweet           Sentiment  \n",
       "0  @MeNyrbie @Phil_Gahan @Chrisitv https://t.co/i...             Neutral  \n",
       "1  advice Talk to your neighbours family to excha...            Positive  \n",
       "2  Coronavirus Australia: Woolworths to give elde...            Positive  \n",
       "3  My food stock is not the only one which is emp...            Positive  \n",
       "4  Me, ready to go at supermarket during the #COV...  Extremely Negative  "
      ]
     },
     "execution_count": 3,
     "metadata": {},
     "output_type": "execute_result"
    }
   ],
   "source": [
    "data.head()"
   ]
  },
  {
   "cell_type": "code",
   "execution_count": 4,
   "id": "e3fc8430",
   "metadata": {},
   "outputs": [
    {
     "data": {
      "text/plain": [
       "Index(['UserName', 'ScreenName', 'Location', 'TweetAt', 'OriginalTweet',\n",
       "       'Sentiment'],\n",
       "      dtype='object')"
      ]
     },
     "execution_count": 4,
     "metadata": {},
     "output_type": "execute_result"
    }
   ],
   "source": [
    "data.columns"
   ]
  },
  {
   "cell_type": "code",
   "execution_count": 5,
   "id": "a294c880",
   "metadata": {},
   "outputs": [
    {
     "data": {
      "text/plain": [
       "UserName          int64\n",
       "ScreenName        int64\n",
       "Location         object\n",
       "TweetAt          object\n",
       "OriginalTweet    object\n",
       "Sentiment        object\n",
       "dtype: object"
      ]
     },
     "execution_count": 5,
     "metadata": {},
     "output_type": "execute_result"
    }
   ],
   "source": [
    "data.dtypes"
   ]
  },
  {
   "cell_type": "markdown",
   "id": "bc96d65e",
   "metadata": {},
   "source": [
    "# Cleaning tweet"
   ]
  },
  {
   "cell_type": "code",
   "execution_count": 6,
   "id": "e9d37334",
   "metadata": {},
   "outputs": [
    {
     "name": "stdout",
     "output_type": "stream",
     "text": [
      "Requirement already satisfied: neattext in c:\\users\\alaa\\anaconda3\\lib\\site-packages (0.1.3)\n",
      "Note: you may need to restart the kernel to use updated packages.\n"
     ]
    }
   ],
   "source": [
    "pip install neattext"
   ]
  },
  {
   "cell_type": "code",
   "execution_count": 7,
   "id": "e5644a4e",
   "metadata": {},
   "outputs": [
    {
     "name": "stdout",
     "output_type": "stream",
     "text": [
      "(41157, 2)\n"
     ]
    },
    {
     "data": {
      "text/html": [
       "<div>\n",
       "<style scoped>\n",
       "    .dataframe tbody tr th:only-of-type {\n",
       "        vertical-align: middle;\n",
       "    }\n",
       "\n",
       "    .dataframe tbody tr th {\n",
       "        vertical-align: top;\n",
       "    }\n",
       "\n",
       "    .dataframe thead th {\n",
       "        text-align: right;\n",
       "    }\n",
       "</style>\n",
       "<table border=\"1\" class=\"dataframe\">\n",
       "  <thead>\n",
       "    <tr style=\"text-align: right;\">\n",
       "      <th></th>\n",
       "      <th>OriginalTweet</th>\n",
       "      <th>Sentiment</th>\n",
       "    </tr>\n",
       "  </thead>\n",
       "  <tbody>\n",
       "    <tr>\n",
       "      <th>0</th>\n",
       "      <td>@MeNyrbie @Phil_Gahan @Chrisitv https://t.co/i...</td>\n",
       "      <td>Neutral</td>\n",
       "    </tr>\n",
       "    <tr>\n",
       "      <th>1</th>\n",
       "      <td>advice Talk to your neighbours family to excha...</td>\n",
       "      <td>Positive</td>\n",
       "    </tr>\n",
       "    <tr>\n",
       "      <th>2</th>\n",
       "      <td>Coronavirus Australia: Woolworths to give elde...</td>\n",
       "      <td>Positive</td>\n",
       "    </tr>\n",
       "    <tr>\n",
       "      <th>3</th>\n",
       "      <td>My food stock is not the only one which is emp...</td>\n",
       "      <td>Positive</td>\n",
       "    </tr>\n",
       "    <tr>\n",
       "      <th>4</th>\n",
       "      <td>Me, ready to go at supermarket during the #COV...</td>\n",
       "      <td>Extremely Negative</td>\n",
       "    </tr>\n",
       "  </tbody>\n",
       "</table>\n",
       "</div>"
      ],
      "text/plain": [
       "                                       OriginalTweet           Sentiment\n",
       "0  @MeNyrbie @Phil_Gahan @Chrisitv https://t.co/i...             Neutral\n",
       "1  advice Talk to your neighbours family to excha...            Positive\n",
       "2  Coronavirus Australia: Woolworths to give elde...            Positive\n",
       "3  My food stock is not the only one which is emp...            Positive\n",
       "4  Me, ready to go at supermarket during the #COV...  Extremely Negative"
      ]
     },
     "execution_count": 7,
     "metadata": {},
     "output_type": "execute_result"
    }
   ],
   "source": [
    "review_data = data[['OriginalTweet','Sentiment']]\n",
    "print(review_data.shape)\n",
    "review_data.head(5)"
   ]
  },
  {
   "cell_type": "code",
   "execution_count": 8,
   "id": "4698d4d4",
   "metadata": {},
   "outputs": [
    {
     "data": {
      "text/html": [
       "<div>\n",
       "<style scoped>\n",
       "    .dataframe tbody tr th:only-of-type {\n",
       "        vertical-align: middle;\n",
       "    }\n",
       "\n",
       "    .dataframe tbody tr th {\n",
       "        vertical-align: top;\n",
       "    }\n",
       "\n",
       "    .dataframe thead th {\n",
       "        text-align: right;\n",
       "    }\n",
       "</style>\n",
       "<table border=\"1\" class=\"dataframe\">\n",
       "  <thead>\n",
       "    <tr style=\"text-align: right;\">\n",
       "      <th></th>\n",
       "      <th>OriginalTweet</th>\n",
       "      <th>Sentiment</th>\n",
       "      <th>length</th>\n",
       "    </tr>\n",
       "  </thead>\n",
       "  <tbody>\n",
       "    <tr>\n",
       "      <th>0</th>\n",
       "      <td>@MeNyrbie @Phil_Gahan @Chrisitv https://t.co/i...</td>\n",
       "      <td>Neutral</td>\n",
       "      <td>111</td>\n",
       "    </tr>\n",
       "    <tr>\n",
       "      <th>1</th>\n",
       "      <td>advice Talk to your neighbours family to excha...</td>\n",
       "      <td>Positive</td>\n",
       "      <td>237</td>\n",
       "    </tr>\n",
       "    <tr>\n",
       "      <th>2</th>\n",
       "      <td>Coronavirus Australia: Woolworths to give elde...</td>\n",
       "      <td>Positive</td>\n",
       "      <td>131</td>\n",
       "    </tr>\n",
       "    <tr>\n",
       "      <th>3</th>\n",
       "      <td>My food stock is not the only one which is emp...</td>\n",
       "      <td>Positive</td>\n",
       "      <td>306</td>\n",
       "    </tr>\n",
       "    <tr>\n",
       "      <th>4</th>\n",
       "      <td>Me, ready to go at supermarket during the #COV...</td>\n",
       "      <td>Extremely Negative</td>\n",
       "      <td>310</td>\n",
       "    </tr>\n",
       "  </tbody>\n",
       "</table>\n",
       "</div>"
      ],
      "text/plain": [
       "                                       OriginalTweet           Sentiment  \\\n",
       "0  @MeNyrbie @Phil_Gahan @Chrisitv https://t.co/i...             Neutral   \n",
       "1  advice Talk to your neighbours family to excha...            Positive   \n",
       "2  Coronavirus Australia: Woolworths to give elde...            Positive   \n",
       "3  My food stock is not the only one which is emp...            Positive   \n",
       "4  Me, ready to go at supermarket during the #COV...  Extremely Negative   \n",
       "\n",
       "   length  \n",
       "0     111  \n",
       "1     237  \n",
       "2     131  \n",
       "3     306  \n",
       "4     310  "
      ]
     },
     "execution_count": 8,
     "metadata": {},
     "output_type": "execute_result"
    }
   ],
   "source": [
    "# calculating length of each record in our df\n",
    "review_data['length'] = review_data['OriginalTweet'].apply(lambda x: len(x))\n",
    "review_data.head()"
   ]
  },
  {
   "cell_type": "code",
   "execution_count": 9,
   "id": "60a16bf7",
   "metadata": {},
   "outputs": [
    {
     "data": {
      "text/plain": [
       "0                                                       []\n",
       "1                                                       []\n",
       "2                                                       []\n",
       "3        [#COVID19france, #COVID_19, #COVID19, #coronav...\n",
       "4        [#COVID19, #coronavirus, #CoronavirusFrance, #...\n",
       "                               ...                        \n",
       "41152                                     [#NZ, #COVID-19]\n",
       "41153                                                   []\n",
       "41154                         [#coronavirus, #toiletpaper]\n",
       "41155               [#coronavirus, #COVID19, #coronavirus]\n",
       "41156                                                   []\n",
       "Name: OriginalTweet, Length: 41157, dtype: object"
      ]
     },
     "execution_count": 9,
     "metadata": {},
     "output_type": "execute_result"
    }
   ],
   "source": [
    "# Load Text Cleaning Package\n",
    "import neattext.functions as nfx\n",
    "\n",
    "review_data['OriginalTweet'].apply(nfx.extract_hashtags)"
   ]
  },
  {
   "cell_type": "code",
   "execution_count": 10,
   "id": "f23fc2d1",
   "metadata": {},
   "outputs": [
    {
     "data": {
      "text/html": [
       "<div>\n",
       "<style scoped>\n",
       "    .dataframe tbody tr th:only-of-type {\n",
       "        vertical-align: middle;\n",
       "    }\n",
       "\n",
       "    .dataframe tbody tr th {\n",
       "        vertical-align: top;\n",
       "    }\n",
       "\n",
       "    .dataframe thead th {\n",
       "        text-align: right;\n",
       "    }\n",
       "</style>\n",
       "<table border=\"1\" class=\"dataframe\">\n",
       "  <thead>\n",
       "    <tr style=\"text-align: right;\">\n",
       "      <th></th>\n",
       "      <th>OriginalTweet</th>\n",
       "      <th>clean_tweet</th>\n",
       "    </tr>\n",
       "  </thead>\n",
       "  <tbody>\n",
       "    <tr>\n",
       "      <th>0</th>\n",
       "      <td>@MeNyrbie @Phil_Gahan @Chrisitv https://t.co/i...</td>\n",
       "      <td>@MeNyrbie @Phil_Gahan @Chrisitv https://t.co/i...</td>\n",
       "    </tr>\n",
       "    <tr>\n",
       "      <th>1</th>\n",
       "      <td>advice Talk to your neighbours family to excha...</td>\n",
       "      <td>advice Talk to your neighbours family to excha...</td>\n",
       "    </tr>\n",
       "    <tr>\n",
       "      <th>2</th>\n",
       "      <td>Coronavirus Australia: Woolworths to give elde...</td>\n",
       "      <td>Coronavirus Australia: Woolworths to give elde...</td>\n",
       "    </tr>\n",
       "    <tr>\n",
       "      <th>3</th>\n",
       "      <td>My food stock is not the only one which is emp...</td>\n",
       "      <td>My food stock is not the only one which is emp...</td>\n",
       "    </tr>\n",
       "    <tr>\n",
       "      <th>4</th>\n",
       "      <td>Me, ready to go at supermarket during the #COV...</td>\n",
       "      <td>Me, ready to go at supermarket during the   ou...</td>\n",
       "    </tr>\n",
       "    <tr>\n",
       "      <th>...</th>\n",
       "      <td>...</td>\n",
       "      <td>...</td>\n",
       "    </tr>\n",
       "    <tr>\n",
       "      <th>41152</th>\n",
       "      <td>Airline pilots offering to stock supermarket s...</td>\n",
       "      <td>Airline pilots offering to stock supermarket s...</td>\n",
       "    </tr>\n",
       "    <tr>\n",
       "      <th>41153</th>\n",
       "      <td>Response to complaint not provided citing COVI...</td>\n",
       "      <td>Response to complaint not provided citing COVI...</td>\n",
       "    </tr>\n",
       "    <tr>\n",
       "      <th>41154</th>\n",
       "      <td>You know itÂs getting tough when @KameronWild...</td>\n",
       "      <td>You know itÂs getting tough when @KameronWild...</td>\n",
       "    </tr>\n",
       "    <tr>\n",
       "      <th>41155</th>\n",
       "      <td>Is it wrong that the smell of hand sanitizer i...</td>\n",
       "      <td>Is it wrong that the smell of hand sanitizer i...</td>\n",
       "    </tr>\n",
       "    <tr>\n",
       "      <th>41156</th>\n",
       "      <td>@TartiiCat Well new/used Rift S are going for ...</td>\n",
       "      <td>@TartiiCat Well new/used Rift S are going for ...</td>\n",
       "    </tr>\n",
       "  </tbody>\n",
       "</table>\n",
       "<p>41157 rows × 2 columns</p>\n",
       "</div>"
      ],
      "text/plain": [
       "                                           OriginalTweet  \\\n",
       "0      @MeNyrbie @Phil_Gahan @Chrisitv https://t.co/i...   \n",
       "1      advice Talk to your neighbours family to excha...   \n",
       "2      Coronavirus Australia: Woolworths to give elde...   \n",
       "3      My food stock is not the only one which is emp...   \n",
       "4      Me, ready to go at supermarket during the #COV...   \n",
       "...                                                  ...   \n",
       "41152  Airline pilots offering to stock supermarket s...   \n",
       "41153  Response to complaint not provided citing COVI...   \n",
       "41154  You know itÂs getting tough when @KameronWild...   \n",
       "41155  Is it wrong that the smell of hand sanitizer i...   \n",
       "41156  @TartiiCat Well new/used Rift S are going for ...   \n",
       "\n",
       "                                             clean_tweet  \n",
       "0      @MeNyrbie @Phil_Gahan @Chrisitv https://t.co/i...  \n",
       "1      advice Talk to your neighbours family to excha...  \n",
       "2      Coronavirus Australia: Woolworths to give elde...  \n",
       "3      My food stock is not the only one which is emp...  \n",
       "4      Me, ready to go at supermarket during the   ou...  \n",
       "...                                                  ...  \n",
       "41152  Airline pilots offering to stock supermarket s...  \n",
       "41153  Response to complaint not provided citing COVI...  \n",
       "41154  You know itÂs getting tough when @KameronWild...  \n",
       "41155  Is it wrong that the smell of hand sanitizer i...  \n",
       "41156  @TartiiCat Well new/used Rift S are going for ...  \n",
       "\n",
       "[41157 rows x 2 columns]"
      ]
     },
     "execution_count": 10,
     "metadata": {},
     "output_type": "execute_result"
    }
   ],
   "source": [
    "#Remove hashtag\n",
    "review_data['clean_tweet'] = review_data['OriginalTweet'].apply(nfx.remove_hashtags)\n",
    "review_data[['OriginalTweet','clean_tweet']]"
   ]
  },
  {
   "cell_type": "code",
   "execution_count": 11,
   "id": "5cbe7f11",
   "metadata": {},
   "outputs": [
    {
     "data": {
      "text/html": [
       "<div>\n",
       "<style scoped>\n",
       "    .dataframe tbody tr th:only-of-type {\n",
       "        vertical-align: middle;\n",
       "    }\n",
       "\n",
       "    .dataframe tbody tr th {\n",
       "        vertical-align: top;\n",
       "    }\n",
       "\n",
       "    .dataframe thead th {\n",
       "        text-align: right;\n",
       "    }\n",
       "</style>\n",
       "<table border=\"1\" class=\"dataframe\">\n",
       "  <thead>\n",
       "    <tr style=\"text-align: right;\">\n",
       "      <th></th>\n",
       "      <th>OriginalTweet</th>\n",
       "      <th>clean_tweet</th>\n",
       "    </tr>\n",
       "  </thead>\n",
       "  <tbody>\n",
       "    <tr>\n",
       "      <th>0</th>\n",
       "      <td>@MeNyrbie @Phil_Gahan @Chrisitv https://t.co/i...</td>\n",
       "      <td>https://t.co/iFz9FAn2Pa and https://t.co...</td>\n",
       "    </tr>\n",
       "    <tr>\n",
       "      <th>1</th>\n",
       "      <td>advice Talk to your neighbours family to excha...</td>\n",
       "      <td>advice Talk to your neighbours family to excha...</td>\n",
       "    </tr>\n",
       "    <tr>\n",
       "      <th>2</th>\n",
       "      <td>Coronavirus Australia: Woolworths to give elde...</td>\n",
       "      <td>Coronavirus Australia: Woolworths to give elde...</td>\n",
       "    </tr>\n",
       "    <tr>\n",
       "      <th>3</th>\n",
       "      <td>My food stock is not the only one which is emp...</td>\n",
       "      <td>My food stock is not the only one which is emp...</td>\n",
       "    </tr>\n",
       "    <tr>\n",
       "      <th>4</th>\n",
       "      <td>Me, ready to go at supermarket during the #COV...</td>\n",
       "      <td>Me, ready to go at supermarket during the   ou...</td>\n",
       "    </tr>\n",
       "    <tr>\n",
       "      <th>...</th>\n",
       "      <td>...</td>\n",
       "      <td>...</td>\n",
       "    </tr>\n",
       "    <tr>\n",
       "      <th>41152</th>\n",
       "      <td>Airline pilots offering to stock supermarket s...</td>\n",
       "      <td>Airline pilots offering to stock supermarket s...</td>\n",
       "    </tr>\n",
       "    <tr>\n",
       "      <th>41153</th>\n",
       "      <td>Response to complaint not provided citing COVI...</td>\n",
       "      <td>Response to complaint not provided citing COVI...</td>\n",
       "    </tr>\n",
       "    <tr>\n",
       "      <th>41154</th>\n",
       "      <td>You know itÂs getting tough when @KameronWild...</td>\n",
       "      <td>You know itÂs getting tough when    is ration...</td>\n",
       "    </tr>\n",
       "    <tr>\n",
       "      <th>41155</th>\n",
       "      <td>Is it wrong that the smell of hand sanitizer i...</td>\n",
       "      <td>Is it wrong that the smell of hand sanitizer i...</td>\n",
       "    </tr>\n",
       "    <tr>\n",
       "      <th>41156</th>\n",
       "      <td>@TartiiCat Well new/used Rift S are going for ...</td>\n",
       "      <td>Well new/used Rift S are going for $700.00 o...</td>\n",
       "    </tr>\n",
       "  </tbody>\n",
       "</table>\n",
       "<p>41157 rows × 2 columns</p>\n",
       "</div>"
      ],
      "text/plain": [
       "                                           OriginalTweet  \\\n",
       "0      @MeNyrbie @Phil_Gahan @Chrisitv https://t.co/i...   \n",
       "1      advice Talk to your neighbours family to excha...   \n",
       "2      Coronavirus Australia: Woolworths to give elde...   \n",
       "3      My food stock is not the only one which is emp...   \n",
       "4      Me, ready to go at supermarket during the #COV...   \n",
       "...                                                  ...   \n",
       "41152  Airline pilots offering to stock supermarket s...   \n",
       "41153  Response to complaint not provided citing COVI...   \n",
       "41154  You know itÂs getting tough when @KameronWild...   \n",
       "41155  Is it wrong that the smell of hand sanitizer i...   \n",
       "41156  @TartiiCat Well new/used Rift S are going for ...   \n",
       "\n",
       "                                             clean_tweet  \n",
       "0            https://t.co/iFz9FAn2Pa and https://t.co...  \n",
       "1      advice Talk to your neighbours family to excha...  \n",
       "2      Coronavirus Australia: Woolworths to give elde...  \n",
       "3      My food stock is not the only one which is emp...  \n",
       "4      Me, ready to go at supermarket during the   ou...  \n",
       "...                                                  ...  \n",
       "41152  Airline pilots offering to stock supermarket s...  \n",
       "41153  Response to complaint not provided citing COVI...  \n",
       "41154  You know itÂs getting tough when    is ration...  \n",
       "41155  Is it wrong that the smell of hand sanitizer i...  \n",
       "41156    Well new/used Rift S are going for $700.00 o...  \n",
       "\n",
       "[41157 rows x 2 columns]"
      ]
     },
     "execution_count": 11,
     "metadata": {},
     "output_type": "execute_result"
    }
   ],
   "source": [
    "#Remove mention\n",
    "review_data['clean_tweet'] = review_data['clean_tweet'].apply(lambda x: nfx.remove_userhandles(x))\n",
    "review_data[['OriginalTweet','clean_tweet']]"
   ]
  },
  {
   "cell_type": "code",
   "execution_count": 12,
   "id": "8f080a7c",
   "metadata": {},
   "outputs": [
    {
     "data": {
      "text/plain": [
       "'As news of the regionÂ\\x92s first confirmed COVID-19 case came out of Sullivan County last week, people flocked to area stores to purchase cleaning supplies, hand sanitizer, food, toilet paper and other goods,   reports https://t.co/cfXch7a2lU'"
      ]
     },
     "execution_count": 12,
     "metadata": {},
     "output_type": "execute_result"
    }
   ],
   "source": [
    "review_data['clean_tweet'].iloc[5]"
   ]
  },
  {
   "cell_type": "code",
   "execution_count": 13,
   "id": "0aaf524a",
   "metadata": {},
   "outputs": [],
   "source": [
    "#Remove urls\n",
    "review_data['clean_tweet'] = review_data['clean_tweet'].apply(nfx.remove_urls)"
   ]
  },
  {
   "cell_type": "code",
   "execution_count": 14,
   "id": "c50226ca",
   "metadata": {},
   "outputs": [
    {
     "data": {
      "text/plain": [
       "'As news of the regionÂ\\x92s first confirmed COVID-19 case came out of Sullivan County last week, people flocked to area stores to purchase cleaning supplies, hand sanitizer, food, toilet paper and other goods,   reports '"
      ]
     },
     "execution_count": 14,
     "metadata": {},
     "output_type": "execute_result"
    }
   ],
   "source": [
    "review_data['clean_tweet'].iloc[5]"
   ]
  },
  {
   "cell_type": "code",
   "execution_count": 15,
   "id": "6fcaaeaa",
   "metadata": {},
   "outputs": [
    {
     "data": {
      "text/html": [
       "<div>\n",
       "<style scoped>\n",
       "    .dataframe tbody tr th:only-of-type {\n",
       "        vertical-align: middle;\n",
       "    }\n",
       "\n",
       "    .dataframe tbody tr th {\n",
       "        vertical-align: top;\n",
       "    }\n",
       "\n",
       "    .dataframe thead th {\n",
       "        text-align: right;\n",
       "    }\n",
       "</style>\n",
       "<table border=\"1\" class=\"dataframe\">\n",
       "  <thead>\n",
       "    <tr style=\"text-align: right;\">\n",
       "      <th></th>\n",
       "      <th>OriginalTweet</th>\n",
       "      <th>clean_tweet</th>\n",
       "    </tr>\n",
       "  </thead>\n",
       "  <tbody>\n",
       "    <tr>\n",
       "      <th>0</th>\n",
       "      <td>@MeNyrbie @Phil_Gahan @Chrisitv https://t.co/i...</td>\n",
       "      <td>and  and</td>\n",
       "    </tr>\n",
       "    <tr>\n",
       "      <th>1</th>\n",
       "      <td>advice Talk to your neighbours family to excha...</td>\n",
       "      <td>advice Talk to your neighbours family to excha...</td>\n",
       "    </tr>\n",
       "    <tr>\n",
       "      <th>2</th>\n",
       "      <td>Coronavirus Australia: Woolworths to give elde...</td>\n",
       "      <td>Coronavirus Australia: Woolworths to give elde...</td>\n",
       "    </tr>\n",
       "    <tr>\n",
       "      <th>3</th>\n",
       "      <td>My food stock is not the only one which is emp...</td>\n",
       "      <td>My food stock is not the only one which is emp...</td>\n",
       "    </tr>\n",
       "    <tr>\n",
       "      <th>4</th>\n",
       "      <td>Me, ready to go at supermarket during the #COV...</td>\n",
       "      <td>Me ready to go at supermarket during the   out...</td>\n",
       "    </tr>\n",
       "    <tr>\n",
       "      <th>...</th>\n",
       "      <td>...</td>\n",
       "      <td>...</td>\n",
       "    </tr>\n",
       "    <tr>\n",
       "      <th>41152</th>\n",
       "      <td>Airline pilots offering to stock supermarket s...</td>\n",
       "      <td>Airline pilots offering to stock supermarket s...</td>\n",
       "    </tr>\n",
       "    <tr>\n",
       "      <th>41153</th>\n",
       "      <td>Response to complaint not provided citing COVI...</td>\n",
       "      <td>Response to complaint not provided citing COVI...</td>\n",
       "    </tr>\n",
       "    <tr>\n",
       "      <th>41154</th>\n",
       "      <td>You know itÂs getting tough when @KameronWild...</td>\n",
       "      <td>You know itÂs getting tough when    is ration...</td>\n",
       "    </tr>\n",
       "    <tr>\n",
       "      <th>41155</th>\n",
       "      <td>Is it wrong that the smell of hand sanitizer i...</td>\n",
       "      <td>Is it wrong that the smell of hand sanitizer i...</td>\n",
       "    </tr>\n",
       "    <tr>\n",
       "      <th>41156</th>\n",
       "      <td>@TartiiCat Well new/used Rift S are going for ...</td>\n",
       "      <td>Well new/used Rift S are going for $70000 on...</td>\n",
       "    </tr>\n",
       "  </tbody>\n",
       "</table>\n",
       "<p>41157 rows × 2 columns</p>\n",
       "</div>"
      ],
      "text/plain": [
       "                                           OriginalTweet  \\\n",
       "0      @MeNyrbie @Phil_Gahan @Chrisitv https://t.co/i...   \n",
       "1      advice Talk to your neighbours family to excha...   \n",
       "2      Coronavirus Australia: Woolworths to give elde...   \n",
       "3      My food stock is not the only one which is emp...   \n",
       "4      Me, ready to go at supermarket during the #COV...   \n",
       "...                                                  ...   \n",
       "41152  Airline pilots offering to stock supermarket s...   \n",
       "41153  Response to complaint not provided citing COVI...   \n",
       "41154  You know itÂs getting tough when @KameronWild...   \n",
       "41155  Is it wrong that the smell of hand sanitizer i...   \n",
       "41156  @TartiiCat Well new/used Rift S are going for ...   \n",
       "\n",
       "                                             clean_tweet  \n",
       "0                                              and  and   \n",
       "1      advice Talk to your neighbours family to excha...  \n",
       "2      Coronavirus Australia: Woolworths to give elde...  \n",
       "3      My food stock is not the only one which is emp...  \n",
       "4      Me ready to go at supermarket during the   out...  \n",
       "...                                                  ...  \n",
       "41152  Airline pilots offering to stock supermarket s...  \n",
       "41153  Response to complaint not provided citing COVI...  \n",
       "41154  You know itÂs getting tough when    is ration...  \n",
       "41155  Is it wrong that the smell of hand sanitizer i...  \n",
       "41156    Well new/used Rift S are going for $70000 on...  \n",
       "\n",
       "[41157 rows x 2 columns]"
      ]
     },
     "execution_count": 15,
     "metadata": {},
     "output_type": "execute_result"
    }
   ],
   "source": [
    "#Remove Punctuations\n",
    "review_data['clean_tweet'] = review_data['clean_tweet'].apply(nfx.remove_puncts)\n",
    "review_data[['OriginalTweet','clean_tweet']]"
   ]
  },
  {
   "cell_type": "code",
   "execution_count": 16,
   "id": "87711fd0",
   "metadata": {},
   "outputs": [
    {
     "name": "stderr",
     "output_type": "stream",
     "text": [
      "[nltk_data] Downloading package stopwords to\n",
      "[nltk_data]     C:\\Users\\Alaa\\AppData\\Roaming\\nltk_data...\n",
      "[nltk_data]   Package stopwords is already up-to-date!\n"
     ]
    }
   ],
   "source": [
    "#Remove Stopwords \n",
    "import nltk\n",
    "nltk.download('stopwords')\n",
    "\n",
    "from nltk.stem import WordNetLemmatizer\n",
    "from nltk import word_tokenize\n",
    "from nltk.corpus import stopwords\n",
    "\n",
    "def remove_stopwords(text):\n",
    "    removed = []\n",
    "    stop_words = list(stopwords.words(\"english\"))\n",
    "    tokens = word_tokenize(text)\n",
    "    for i in range(len(tokens)):\n",
    "        if tokens[i] not in stop_words:\n",
    "            removed.append(tokens[i])\n",
    "    return \" \".join(removed)"
   ]
  },
  {
   "cell_type": "code",
   "execution_count": 17,
   "id": "308d48e0",
   "metadata": {},
   "outputs": [],
   "source": [
    "#data['clean_tweet'] =data['clean_tweet'].apply(nfx.remove_stopwords).tolist()\n",
    "review_data['clean_tweet'] = review_data['clean_tweet'].apply(lambda x: remove_stopwords(x))"
   ]
  },
  {
   "cell_type": "code",
   "execution_count": 18,
   "id": "98a3ffca",
   "metadata": {},
   "outputs": [
    {
     "name": "stdout",
     "output_type": "stream",
     "text": [
      "Requirement already satisfied: translate in c:\\users\\alaa\\anaconda3\\lib\\site-packages (3.6.1)\n",
      "Requirement already satisfied: lxml in c:\\users\\alaa\\anaconda3\\lib\\site-packages (from translate) (4.6.3)\n",
      "Requirement already satisfied: click in c:\\users\\alaa\\anaconda3\\lib\\site-packages (from translate) (8.0.3)\n",
      "Requirement already satisfied: requests in c:\\users\\alaa\\anaconda3\\lib\\site-packages (from translate) (2.26.0)\n",
      "Requirement already satisfied: libretranslatepy==2.1.1 in c:\\users\\alaa\\anaconda3\\lib\\site-packages (from translate) (2.1.1)\n",
      "Requirement already satisfied: colorama in c:\\users\\alaa\\anaconda3\\lib\\site-packages (from click->translate) (0.4.4)\n",
      "Requirement already satisfied: certifi>=2017.4.17 in c:\\users\\alaa\\anaconda3\\lib\\site-packages (from requests->translate) (2021.10.8)\n",
      "Requirement already satisfied: idna<4,>=2.5 in c:\\users\\alaa\\anaconda3\\lib\\site-packages (from requests->translate) (3.2)\n",
      "Requirement already satisfied: charset-normalizer~=2.0.0 in c:\\users\\alaa\\anaconda3\\lib\\site-packages (from requests->translate) (2.0.4)\n",
      "Requirement already satisfied: urllib3<1.27,>=1.21.1 in c:\\users\\alaa\\anaconda3\\lib\\site-packages (from requests->translate) (1.26.7)\n"
     ]
    }
   ],
   "source": [
    "#Remove numbers and english punctuation\n",
    "!pip install translate\n",
    "import translate\n",
    "import re\n",
    "import string\n",
    "english_pun = string.punctuation\n",
    "puncts='-‐‒–‑―⸗⸚⸺⹀〜〰゠︱︲﹘﹣֊« »‘ ’‛“ ”‟‹ ›[ ]⁽ ⁾⌈ ⌉⌊ ⌋!\"#%&:;\\¡؟؛،﹪?@ ...'\n",
    "list_pun = puncts + english_pun\n",
    "def preprocessing (data):\n",
    "    translator = str.maketrans(list_pun,' '*len(list_pun))\n",
    "    modified_data = data.translate(translator)\n",
    "    modified_data=re.sub('[0-9]+',' ',modified_data)\n",
    "    return modified_data"
   ]
  },
  {
   "cell_type": "code",
   "execution_count": 19,
   "id": "c8af1c93",
   "metadata": {},
   "outputs": [],
   "source": [
    "review_data['clean_tweet'] = [preprocessing(i) for i in review_data['clean_tweet']]"
   ]
  },
  {
   "cell_type": "code",
   "execution_count": 20,
   "id": "675af6da",
   "metadata": {},
   "outputs": [],
   "source": [
    "def remove_extra_white_spaces(text):\n",
    "    single_char_pattern = r'\\s+[a-zA-Z]\\s+'\n",
    "    without_sc = re.sub(pattern=single_char_pattern, repl=\" \", string=text)\n",
    "    return without_sc"
   ]
  },
  {
   "cell_type": "code",
   "execution_count": 21,
   "id": "e8abd675",
   "metadata": {},
   "outputs": [],
   "source": [
    "review_data['clean_tweet'] = review_data['clean_tweet'].apply(lambda x: remove_extra_white_spaces(x))"
   ]
  },
  {
   "cell_type": "code",
   "execution_count": 22,
   "id": "441e6d92",
   "metadata": {},
   "outputs": [],
   "source": [
    "def convert_to_lower(text):\n",
    "    return text.lower()\n",
    "review_data['clean_tweet']= review_data['clean_tweet'].apply(lambda x: convert_to_lower(x))"
   ]
  },
  {
   "cell_type": "code",
   "execution_count": 23,
   "id": "a3094c86",
   "metadata": {},
   "outputs": [
    {
     "data": {
      "text/html": [
       "<div>\n",
       "<style scoped>\n",
       "    .dataframe tbody tr th:only-of-type {\n",
       "        vertical-align: middle;\n",
       "    }\n",
       "\n",
       "    .dataframe tbody tr th {\n",
       "        vertical-align: top;\n",
       "    }\n",
       "\n",
       "    .dataframe thead th {\n",
       "        text-align: right;\n",
       "    }\n",
       "</style>\n",
       "<table border=\"1\" class=\"dataframe\">\n",
       "  <thead>\n",
       "    <tr style=\"text-align: right;\">\n",
       "      <th></th>\n",
       "      <th>OriginalTweet</th>\n",
       "      <th>clean_tweet</th>\n",
       "    </tr>\n",
       "  </thead>\n",
       "  <tbody>\n",
       "    <tr>\n",
       "      <th>0</th>\n",
       "      <td>@MeNyrbie @Phil_Gahan @Chrisitv https://t.co/i...</td>\n",
       "      <td></td>\n",
       "    </tr>\n",
       "    <tr>\n",
       "      <th>1</th>\n",
       "      <td>advice Talk to your neighbours family to excha...</td>\n",
       "      <td>advice talk neighbours family exchange phone n...</td>\n",
       "    </tr>\n",
       "    <tr>\n",
       "      <th>2</th>\n",
       "      <td>Coronavirus Australia: Woolworths to give elde...</td>\n",
       "      <td>coronavirus australia   woolworths give elderl...</td>\n",
       "    </tr>\n",
       "    <tr>\n",
       "      <th>3</th>\n",
       "      <td>My food stock is not the only one which is emp...</td>\n",
       "      <td>my food stock one empty please dont panic ther...</td>\n",
       "    </tr>\n",
       "    <tr>\n",
       "      <th>4</th>\n",
       "      <td>Me, ready to go at supermarket during the #COV...</td>\n",
       "      <td>me ready go supermarket outbreak not im parano...</td>\n",
       "    </tr>\n",
       "    <tr>\n",
       "      <th>...</th>\n",
       "      <td>...</td>\n",
       "      <td>...</td>\n",
       "    </tr>\n",
       "    <tr>\n",
       "      <th>41152</th>\n",
       "      <td>Airline pilots offering to stock supermarket s...</td>\n",
       "      <td>airline pilots offering stock supermarket shel...</td>\n",
       "    </tr>\n",
       "    <tr>\n",
       "      <th>41153</th>\n",
       "      <td>Response to complaint not provided citing COVI...</td>\n",
       "      <td>response complaint provided citing covid  rela...</td>\n",
       "    </tr>\n",
       "    <tr>\n",
       "      <th>41154</th>\n",
       "      <td>You know itÂs getting tough when @KameronWild...</td>\n",
       "      <td>you know itâs getting tough rationing toilet ...</td>\n",
       "    </tr>\n",
       "    <tr>\n",
       "      <th>41155</th>\n",
       "      <td>Is it wrong that the smell of hand sanitizer i...</td>\n",
       "      <td>is wrong smell hand sanitizer starting turn</td>\n",
       "    </tr>\n",
       "    <tr>\n",
       "      <th>41156</th>\n",
       "      <td>@TartiiCat Well new/used Rift S are going for ...</td>\n",
       "      <td>well new used rift going     amazon rn althoug...</td>\n",
       "    </tr>\n",
       "  </tbody>\n",
       "</table>\n",
       "<p>41157 rows × 2 columns</p>\n",
       "</div>"
      ],
      "text/plain": [
       "                                           OriginalTweet  \\\n",
       "0      @MeNyrbie @Phil_Gahan @Chrisitv https://t.co/i...   \n",
       "1      advice Talk to your neighbours family to excha...   \n",
       "2      Coronavirus Australia: Woolworths to give elde...   \n",
       "3      My food stock is not the only one which is emp...   \n",
       "4      Me, ready to go at supermarket during the #COV...   \n",
       "...                                                  ...   \n",
       "41152  Airline pilots offering to stock supermarket s...   \n",
       "41153  Response to complaint not provided citing COVI...   \n",
       "41154  You know itÂs getting tough when @KameronWild...   \n",
       "41155  Is it wrong that the smell of hand sanitizer i...   \n",
       "41156  @TartiiCat Well new/used Rift S are going for ...   \n",
       "\n",
       "                                             clean_tweet  \n",
       "0                                                         \n",
       "1      advice talk neighbours family exchange phone n...  \n",
       "2      coronavirus australia   woolworths give elderl...  \n",
       "3      my food stock one empty please dont panic ther...  \n",
       "4      me ready go supermarket outbreak not im parano...  \n",
       "...                                                  ...  \n",
       "41152  airline pilots offering stock supermarket shel...  \n",
       "41153  response complaint provided citing covid  rela...  \n",
       "41154  you know itâs getting tough rationing toilet ...  \n",
       "41155        is wrong smell hand sanitizer starting turn  \n",
       "41156  well new used rift going     amazon rn althoug...  \n",
       "\n",
       "[41157 rows x 2 columns]"
      ]
     },
     "execution_count": 23,
     "metadata": {},
     "output_type": "execute_result"
    }
   ],
   "source": [
    "review_data[['OriginalTweet','clean_tweet']]"
   ]
  },
  {
   "cell_type": "code",
   "execution_count": 24,
   "id": "f62cf5e2",
   "metadata": {},
   "outputs": [
    {
     "data": {
      "text/html": [
       "<div>\n",
       "<style scoped>\n",
       "    .dataframe tbody tr th:only-of-type {\n",
       "        vertical-align: middle;\n",
       "    }\n",
       "\n",
       "    .dataframe tbody tr th {\n",
       "        vertical-align: top;\n",
       "    }\n",
       "\n",
       "    .dataframe thead th {\n",
       "        text-align: right;\n",
       "    }\n",
       "</style>\n",
       "<table border=\"1\" class=\"dataframe\">\n",
       "  <thead>\n",
       "    <tr style=\"text-align: right;\">\n",
       "      <th></th>\n",
       "      <th>OriginalTweet</th>\n",
       "      <th>Sentiment</th>\n",
       "      <th>length</th>\n",
       "      <th>clean_tweet</th>\n",
       "      <th>length_after_cleaning</th>\n",
       "    </tr>\n",
       "  </thead>\n",
       "  <tbody>\n",
       "    <tr>\n",
       "      <th>0</th>\n",
       "      <td>@MeNyrbie @Phil_Gahan @Chrisitv https://t.co/i...</td>\n",
       "      <td>Neutral</td>\n",
       "      <td>111</td>\n",
       "      <td></td>\n",
       "      <td>0</td>\n",
       "    </tr>\n",
       "    <tr>\n",
       "      <th>1</th>\n",
       "      <td>advice Talk to your neighbours family to excha...</td>\n",
       "      <td>Positive</td>\n",
       "      <td>237</td>\n",
       "      <td>advice talk neighbours family exchange phone n...</td>\n",
       "      <td>196</td>\n",
       "    </tr>\n",
       "    <tr>\n",
       "      <th>2</th>\n",
       "      <td>Coronavirus Australia: Woolworths to give elde...</td>\n",
       "      <td>Positive</td>\n",
       "      <td>131</td>\n",
       "      <td>coronavirus australia   woolworths give elderl...</td>\n",
       "      <td>102</td>\n",
       "    </tr>\n",
       "    <tr>\n",
       "      <th>3</th>\n",
       "      <td>My food stock is not the only one which is emp...</td>\n",
       "      <td>Positive</td>\n",
       "      <td>306</td>\n",
       "      <td>my food stock one empty please dont panic ther...</td>\n",
       "      <td>110</td>\n",
       "    </tr>\n",
       "    <tr>\n",
       "      <th>4</th>\n",
       "      <td>Me, ready to go at supermarket during the #COV...</td>\n",
       "      <td>Extremely Negative</td>\n",
       "      <td>310</td>\n",
       "      <td>me ready go supermarket outbreak not im parano...</td>\n",
       "      <td>130</td>\n",
       "    </tr>\n",
       "  </tbody>\n",
       "</table>\n",
       "</div>"
      ],
      "text/plain": [
       "                                       OriginalTweet           Sentiment  \\\n",
       "0  @MeNyrbie @Phil_Gahan @Chrisitv https://t.co/i...             Neutral   \n",
       "1  advice Talk to your neighbours family to excha...            Positive   \n",
       "2  Coronavirus Australia: Woolworths to give elde...            Positive   \n",
       "3  My food stock is not the only one which is emp...            Positive   \n",
       "4  Me, ready to go at supermarket during the #COV...  Extremely Negative   \n",
       "\n",
       "   length                                        clean_tweet  \\\n",
       "0     111                                                      \n",
       "1     237  advice talk neighbours family exchange phone n...   \n",
       "2     131  coronavirus australia   woolworths give elderl...   \n",
       "3     306  my food stock one empty please dont panic ther...   \n",
       "4     310  me ready go supermarket outbreak not im parano...   \n",
       "\n",
       "   length_after_cleaning  \n",
       "0                      0  \n",
       "1                    196  \n",
       "2                    102  \n",
       "3                    110  \n",
       "4                    130  "
      ]
     },
     "execution_count": 24,
     "metadata": {},
     "output_type": "execute_result"
    }
   ],
   "source": [
    "# calculating length of each record after performing text cleaning\n",
    "review_data['length_after_cleaning'] = review_data['clean_tweet'].apply(lambda x: len(x))\n",
    "review_data.head()"
   ]
  },
  {
   "cell_type": "code",
   "execution_count": 27,
   "id": "b0c8de44",
   "metadata": {},
   "outputs": [
    {
     "name": "stdout",
     "output_type": "stream",
     "text": [
      "(21339, 5)\n"
     ]
    },
    {
     "data": {
      "text/html": [
       "<div>\n",
       "<style scoped>\n",
       "    .dataframe tbody tr th:only-of-type {\n",
       "        vertical-align: middle;\n",
       "    }\n",
       "\n",
       "    .dataframe tbody tr th {\n",
       "        vertical-align: top;\n",
       "    }\n",
       "\n",
       "    .dataframe thead th {\n",
       "        text-align: right;\n",
       "    }\n",
       "</style>\n",
       "<table border=\"1\" class=\"dataframe\">\n",
       "  <thead>\n",
       "    <tr style=\"text-align: right;\">\n",
       "      <th></th>\n",
       "      <th>OriginalTweet</th>\n",
       "      <th>Sentiment</th>\n",
       "      <th>length</th>\n",
       "      <th>clean_tweet</th>\n",
       "      <th>length_after_cleaning</th>\n",
       "    </tr>\n",
       "  </thead>\n",
       "  <tbody>\n",
       "    <tr>\n",
       "      <th>1</th>\n",
       "      <td>advice Talk to your neighbours family to excha...</td>\n",
       "      <td>Positive</td>\n",
       "      <td>237</td>\n",
       "      <td>advice talk neighbours family exchange phone n...</td>\n",
       "      <td>196</td>\n",
       "    </tr>\n",
       "    <tr>\n",
       "      <th>2</th>\n",
       "      <td>Coronavirus Australia: Woolworths to give elde...</td>\n",
       "      <td>Positive</td>\n",
       "      <td>131</td>\n",
       "      <td>coronavirus australia   woolworths give elderl...</td>\n",
       "      <td>102</td>\n",
       "    </tr>\n",
       "    <tr>\n",
       "      <th>3</th>\n",
       "      <td>My food stock is not the only one which is emp...</td>\n",
       "      <td>Positive</td>\n",
       "      <td>306</td>\n",
       "      <td>my food stock one empty please dont panic ther...</td>\n",
       "      <td>110</td>\n",
       "    </tr>\n",
       "    <tr>\n",
       "      <th>5</th>\n",
       "      <td>As news of the regionÂs first confirmed COVID...</td>\n",
       "      <td>Positive</td>\n",
       "      <td>250</td>\n",
       "      <td>as news regionâs first confirmed covid  case ...</td>\n",
       "      <td>177</td>\n",
       "    </tr>\n",
       "    <tr>\n",
       "      <th>6</th>\n",
       "      <td>Cashier at grocery store was sharing his insig...</td>\n",
       "      <td>Positive</td>\n",
       "      <td>180</td>\n",
       "      <td>cashier grocery store sharing insights to prov...</td>\n",
       "      <td>101</td>\n",
       "    </tr>\n",
       "  </tbody>\n",
       "</table>\n",
       "</div>"
      ],
      "text/plain": [
       "                                       OriginalTweet Sentiment  length  \\\n",
       "1  advice Talk to your neighbours family to excha...  Positive     237   \n",
       "2  Coronavirus Australia: Woolworths to give elde...  Positive     131   \n",
       "3  My food stock is not the only one which is emp...  Positive     306   \n",
       "5  As news of the regionÂs first confirmed COVID...  Positive     250   \n",
       "6  Cashier at grocery store was sharing his insig...  Positive     180   \n",
       "\n",
       "                                         clean_tweet  length_after_cleaning  \n",
       "1  advice talk neighbours family exchange phone n...                    196  \n",
       "2  coronavirus australia   woolworths give elderl...                    102  \n",
       "3  my food stock one empty please dont panic ther...                    110  \n",
       "5  as news regionâs first confirmed covid  case ...                    177  \n",
       "6  cashier grocery store sharing insights to prov...                    101  "
      ]
     },
     "execution_count": 27,
     "metadata": {},
     "output_type": "execute_result"
    }
   ],
   "source": [
    "#We don’t really need neutral, Extremely Positive or Extremely Negative reviews in our dataset\n",
    "#So, drop those rows from the dataset.\n",
    "#We do binary classification 'positive or negative'\n",
    "\n",
    "review_data = review_data[review_data['Sentiment'] != 'Neutral']\n",
    "review_data = review_data[review_data['Sentiment'] != 'Extremely Positive']\n",
    "review_data = review_data[review_data['Sentiment'] != 'Extremely Negative']\n",
    "\n",
    "print(review_data.shape)\n",
    "review_data.head(5)"
   ]
  },
  {
   "cell_type": "code",
   "execution_count": 28,
   "id": "bef253bc",
   "metadata": {},
   "outputs": [
    {
     "data": {
      "text/plain": [
       "OriginalTweet            0\n",
       "Sentiment                0\n",
       "length                   0\n",
       "clean_tweet              0\n",
       "length_after_cleaning    0\n",
       "dtype: int64"
      ]
     },
     "execution_count": 28,
     "metadata": {},
     "output_type": "execute_result"
    }
   ],
   "source": [
    "review_data.isnull().sum()"
   ]
  },
  {
   "cell_type": "code",
   "execution_count": 29,
   "id": "c4cd80a9",
   "metadata": {},
   "outputs": [
    {
     "data": {
      "text/plain": [
       "Positive    11422\n",
       "Negative     9917\n",
       "Name: Sentiment, dtype: int64"
      ]
     },
     "execution_count": 29,
     "metadata": {},
     "output_type": "execute_result"
    }
   ],
   "source": [
    "review_data[\"Sentiment\"].value_counts()"
   ]
  },
  {
   "cell_type": "markdown",
   "id": "333822f4",
   "metadata": {},
   "source": [
    "# Sentiment Analysis"
   ]
  },
  {
   "cell_type": "code",
   "execution_count": 30,
   "id": "6035689c",
   "metadata": {},
   "outputs": [
    {
     "data": {
      "text/plain": [
       "(array([0, 0, 0, ..., 0, 0, 1], dtype=int64),\n",
       " Index(['Positive', 'Negative'], dtype='object'))"
      ]
     },
     "execution_count": 30,
     "metadata": {},
     "output_type": "execute_result"
    }
   ],
   "source": [
    "#The labels for this dataset are categorical. Machines understand only numeric data.\n",
    "#So, convert the categorical values to numeric using the factorize() method.\n",
    "#This returns an array of numeric values and an Index of categories.\n",
    "sentiment_label = review_data.Sentiment.factorize()\n",
    "sentiment_label\n",
    "#0 --> positive and 1 --> negative"
   ]
  },
  {
   "cell_type": "code",
   "execution_count": 31,
   "id": "41022c46",
   "metadata": {},
   "outputs": [],
   "source": [
    "#first ,retrieve all the text data from the dataset\n",
    "tweet = review_data.clean_tweet.values"
   ]
  },
  {
   "cell_type": "code",
   "execution_count": 32,
   "id": "8a9405d1",
   "metadata": {},
   "outputs": [],
   "source": [
    "#Tokenization\n",
    "from tensorflow.keras.preprocessing.text import Tokenizer\n",
    "tokenizer = Tokenizer(num_words=5000)\n",
    "#creates an association between the words and the assigned numbers.\n",
    "#This association is stored in the form of a dictionary in the tokenizer.word_index attribute.\n",
    "tokenizer.fit_on_texts(tweet)"
   ]
  },
  {
   "cell_type": "code",
   "execution_count": 33,
   "id": "e03ea146",
   "metadata": {},
   "outputs": [],
   "source": [
    "#replace the words with their assigned numbers\n",
    "encoded_docs = tokenizer.texts_to_sequences(tweet)"
   ]
  },
  {
   "cell_type": "code",
   "execution_count": 34,
   "id": "54691773",
   "metadata": {},
   "outputs": [],
   "source": [
    "#Each of the sentences in the dataset is not of equal length. Use padding to pad the sentences to have equal length\n",
    "from tensorflow.keras.preprocessing.sequence import pad_sequences\n",
    "padded_sequence = pad_sequences(encoded_docs, maxlen=200)"
   ]
  },
  {
   "cell_type": "markdown",
   "id": "24e0fafd",
   "metadata": {},
   "source": [
    "# Text Classifier"
   ]
  },
  {
   "cell_type": "code",
   "execution_count": 35,
   "id": "87b37c35",
   "metadata": {},
   "outputs": [
    {
     "name": "stdout",
     "output_type": "stream",
     "text": [
      "Model: \"sequential\"\n",
      "_________________________________________________________________\n",
      " Layer (type)                Output Shape              Param #   \n",
      "=================================================================\n",
      " embedding (Embedding)       (None, 200, 32)           3200000   \n",
      "                                                                 \n",
      " spatial_dropout1d (SpatialD  (None, 200, 32)          0         \n",
      " ropout1D)                                                       \n",
      "                                                                 \n",
      " lstm (LSTM)                 (None, 50)                16600     \n",
      "                                                                 \n",
      " dropout (Dropout)           (None, 50)                0         \n",
      "                                                                 \n",
      " dense (Dense)               (None, 1)                 51        \n",
      "                                                                 \n",
      "=================================================================\n",
      "Total params: 3,216,651\n",
      "Trainable params: 3,216,651\n",
      "Non-trainable params: 0\n",
      "_________________________________________________________________\n",
      "None\n"
     ]
    }
   ],
   "source": [
    "#connect layers sequentially\n",
    "from tensorflow.keras.models import Sequential\n",
    "\n",
    "#types of layers\n",
    "from tensorflow.keras.layers import LSTM,Dense, Dropout, SpatialDropout1D\n",
    "from tensorflow.keras.layers import Embedding\n",
    "\n",
    "embedding_vector_length = 32\n",
    "vocab_size = 100000\n",
    "#model --> empty\n",
    "model = Sequential()\n",
    "#Add layers to model\n",
    "\n",
    "#computing an embedding matrix, the meaning of every word and its calculations(which are called hidden states) are stored\n",
    "model.add(Embedding(vocab_size, embedding_vector_length, input_length=200))\n",
    "model.add(SpatialDropout1D(0.25))\n",
    "\n",
    "#LSTM stands for Long Short Term Memory Networks. \n",
    "#It is a variant of Recurrent Neural Networks. \n",
    "#Recurrent Neural Networks are usually used with sequential data such as text\n",
    "model.add(LSTM(50, dropout=0.5, recurrent_dropout=0.5))\n",
    "\n",
    "# To avoid overfitting\n",
    "model.add(Dropout(0.2))\n",
    "\n",
    "#Dense --> fully connected\n",
    "model.add(Dense(1, activation='sigmoid'))\n",
    "\n",
    "model.compile(loss='binary_crossentropy',optimizer='adam', metrics=['accuracy'])\n",
    "\n",
    "\n",
    "print(model.summary())"
   ]
  },
  {
   "cell_type": "code",
   "execution_count": 36,
   "id": "6e4bcc7b",
   "metadata": {},
   "outputs": [
    {
     "name": "stdout",
     "output_type": "stream",
     "text": [
      "Epoch 1/5\n",
      "534/534 [==============================] - 400s 719ms/step - loss: 0.6355 - accuracy: 0.6274 - val_loss: 0.5513 - val_accuracy: 0.7282\n",
      "Epoch 2/5\n",
      "534/534 [==============================] - 332s 621ms/step - loss: 0.4934 - accuracy: 0.7684 - val_loss: 0.4825 - val_accuracy: 0.7786\n",
      "Epoch 3/5\n",
      "534/534 [==============================] - 342s 640ms/step - loss: 0.4213 - accuracy: 0.8152 - val_loss: 0.4705 - val_accuracy: 0.7861\n",
      "Epoch 4/5\n",
      "534/534 [==============================] - 355s 665ms/step - loss: 0.3796 - accuracy: 0.8396 - val_loss: 0.4773 - val_accuracy: 0.7915\n",
      "Epoch 5/5\n",
      "534/534 [==============================] - 394s 737ms/step - loss: 0.3522 - accuracy: 0.8507 - val_loss: 0.4778 - val_accuracy: 0.7943\n"
     ]
    }
   ],
   "source": [
    "#Train the sentiment analysis model for 5 epochs on the whole dataset with a batch size of 32 and a validation split of 20%.\n",
    "history = model.fit(padded_sequence,sentiment_label[0],validation_split=0.2, epochs=5, batch_size=32)"
   ]
  },
  {
   "cell_type": "code",
   "execution_count": 39,
   "id": "757ddad0",
   "metadata": {},
   "outputs": [
    {
     "data": {
      "text/plain": [
       "[0.6273797750473022,\n",
       " 0.7684376835823059,\n",
       " 0.8151836395263672,\n",
       " 0.8395524621009827,\n",
       " 0.8506824374198914]"
      ]
     },
     "execution_count": 39,
     "metadata": {},
     "output_type": "execute_result"
    }
   ],
   "source": [
    "history.history['accuracy'] #train"
   ]
  },
  {
   "cell_type": "code",
   "execution_count": 40,
   "id": "b9da3158",
   "metadata": {},
   "outputs": [
    {
     "data": {
      "text/plain": [
       "[0.728209912776947,\n",
       " 0.7785848379135132,\n",
       " 0.7860824465751648,\n",
       " 0.7914714217185974,\n",
       " 0.7942830324172974]"
      ]
     },
     "execution_count": 40,
     "metadata": {},
     "output_type": "execute_result"
    }
   ],
   "source": [
    "history.history['val_accuracy'] #test"
   ]
  },
  {
   "cell_type": "code",
   "execution_count": 37,
   "id": "909c6284",
   "metadata": {},
   "outputs": [
    {
     "data": {
      "image/png": "[encoded data removed]",
      "text/plain": [
       "<Figure size 432x288 with 1 Axes>"
      ]
     },
     "metadata": {
      "needs_background": "light"
     },
     "output_type": "display_data"
    },
    {
     "data": {
      "text/plain": [
       "<Figure size 432x288 with 0 Axes>"
      ]
     },
     "metadata": {},
     "output_type": "display_data"
    }
   ],
   "source": [
    "import matplotlib.pyplot as plt\n",
    "plt.plot(history.history['accuracy'], label='Train accuracy')\n",
    "plt.plot(history.history['val_accuracy'], label='Test accuracy')\n",
    "plt.legend()\n",
    "plt.show()\n",
    "plt.savefig(\"Accuracy plot.jpg\")"
   ]
  },
  {
   "cell_type": "code",
   "execution_count": 38,
   "id": "5f403b7e",
   "metadata": {},
   "outputs": [
    {
     "data": {
      "image/png": "[encoded data removed]",
      "text/plain": [
       "<Figure size 432x288 with 1 Axes>"
      ]
     },
     "metadata": {
      "needs_background": "light"
     },
     "output_type": "display_data"
    },
    {
     "data": {
      "text/plain": [
       "<Figure size 432x288 with 0 Axes>"
      ]
     },
     "metadata": {},
     "output_type": "display_data"
    }
   ],
   "source": [
    "plt.plot(history.history['loss'], label='Train loss')\n",
    "plt.plot(history.history['val_loss'], label='Test loss')\n",
    "plt.legend()\n",
    "plt.show()\n",
    "plt.savefig(\"Loss plt.jpg\")"
   ]
  },
  {
   "cell_type": "code",
   "execution_count": 41,
   "id": "357efac2",
   "metadata": {},
   "outputs": [
    {
     "name": "stdout",
     "output_type": "stream",
     "text": [
      "1/1 [==============================] - 3s 3s/step\n",
      "Predicted label:  Positive\n",
      "1/1 [==============================] - 2s 2s/step\n",
      "Predicted label:  Positive\n",
      "1/1 [==============================] - 2s 2s/step\n",
      "Predicted label:  Positive\n",
      "1/1 [==============================] - 2s 2s/step\n",
      "Predicted label:  Negative\n"
     ]
    }
   ],
   "source": [
    "#Define a function that takes a text as input and outputs its prediction label.\n",
    "def predict_sentiment(text):\n",
    "    tw = tokenizer.texts_to_sequences([text])\n",
    "    tw = pad_sequences(tw,maxlen=200)\n",
    "    prediction = int(model.predict(tw).round().item())\n",
    "    print(\"Predicted label: \", sentiment_label[1][prediction])\n",
    "test_sentence1 = \"I have corona.\"\n",
    "predict_sentiment(test_sentence1)\n",
    "test_sentence2 = \"All month there hasn't been crowding in the supermarkets or restaurants, however reducing all the hours and closing the malls means everyone is now using the same entrance and dependent on a single supermarket.\"\n",
    "predict_sentiment(test_sentence2)\n",
    "test_sentence3 = \"I've tested positive for COVID-19 today with mild symptoms. Post the confirmation, I have quarantined myself at home and taking all the necessary precautions and medication required.\"\n",
    "predict_sentiment(test_sentence3)\n",
    "test_sentence4 = \"Global demand is plummeting because of the Covid-19 pandemic, and reduced supply will still not bring oil prices up to last year's levels. India should move to fill up its strategic petroleum reserves while prices are low\"\n",
    "predict_sentiment(test_sentence4)"
   ]
  },
  {
   "cell_type": "code",
   "execution_count": 44,
   "id": "11646183",
   "metadata": {},
   "outputs": [
    {
     "name": "stdout",
     "output_type": "stream",
     "text": [
      "Enter your review : I hate corona\n",
      "1/1 [==============================] - 2s 2s/step\n",
      "Predicted label:  Negative\n"
     ]
    }
   ],
   "source": [
    "test_sentence5 = input('Enter your review : ')\n",
    "predict_sentiment(test_sentence5)"
   ]
  },
  {
   "cell_type": "markdown",
   "id": "7f464df7",
   "metadata": {},
   "source": [
    "# End"
   ]
  }
 ],
 "metadata": {
  "celltoolbar": "Raw Cell Format",
  "kernelspec": {
   "display_name": "Python 3 (ipykernel)",
   "language": "python",
   "name": "python3"
  },
  "language_info": {
   "codemirror_mode": {
    "name": "ipython",
    "version": 3
   },
   "file_extension": ".py",
   "mimetype": "text/x-python",
   "name": "python",
   "nbconvert_exporter": "python",
   "pygments_lexer": "ipython3",
   "version": "3.9.7"
  }
 },
 "nbformat": 4,
 "nbformat_minor": 5
}
